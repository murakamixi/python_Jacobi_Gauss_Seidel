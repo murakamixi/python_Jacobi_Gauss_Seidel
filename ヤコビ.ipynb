{
  "nbformat": 4,
  "nbformat_minor": 0,
  "metadata": {
    "colab": {
      "provenance": []
    },
    "kernelspec": {
      "name": "python3",
      "display_name": "Python 3"
    },
    "language_info": {
      "name": "python"
    }
  },
  "cells": [
    {
      "cell_type": "code",
      "source": [
        "A = np.array([[2, 1, 1],\n",
        "                  [2, 3, 1],\n",
        "                  [1, 1, 3]])\n",
        "b = np.array([2, 4, -1])"
      ],
      "metadata": {
        "id": "Vv8meBpbKoIm"
      },
      "execution_count": 79,
      "outputs": []
    },
    {
      "cell_type": "code",
      "source": [
        "import numpy as np\n",
        "from matplotlib import pyplot as plt\n",
        " \n",
        "def jacobi(A, b, tolerance):\n",
        "    ''' 連立方程式をヤコビ法（反復法）で解く '''\n",
        " \n",
        "    # 初期化（適当な解と残差）\n",
        "    x0 = [0, 0, 0]\n",
        "    residual = 1e20 #残差\n",
        " \n",
        "    # A = D(対角行列) + R(R := L + U)\n",
        "    D = np.diag(A)\n",
        "    R = A - np.diag(D)\n",
        " \n",
        "    # 反復計算=>残差がトレランスより小さくなったら終了\n",
        "    i = 0\n",
        "    print('----------Start iteration----------')\n",
        "    res = []\n",
        "    while residual > tolerance:\n",
        "        # 解と残差を計算\n",
        "        x = (b - (R @ x0)) / D\n",
        "        # xがbでx0がAxのつもりで、どれだけ解が欲しいターゲットの値と乖離しているかを計算している。\n",
        "        denominator = np.sqrt((x - x0) ** 2)\n",
        "        numerator = np.sqrt(x ** 2)\n",
        "        residual = np.sum(denominator) / np.sum(numerator)\n",
        "        res.append(residual)\n",
        "\n",
        "        # 100回ごとの誤差を出力\n",
        "        if i % 100 == 0:\n",
        "            print('Iteration=', i)\n",
        "            print('Residual=', residual)\n",
        "            print('x=', x)\n",
        "        i += 1\n",
        "        x0 = x\n",
        " \n",
        "    print('----------End iteration----------')\n",
        "    print('Iteration=', i)\n",
        "    print('Residual=', residual)\n",
        "    print('x=', x, '\\n')\n",
        " \n",
        "    return x, res"
      ],
      "metadata": {
        "id": "JQGnYSrwn0g7"
      },
      "execution_count": 80,
      "outputs": []
    },
    {
      "cell_type": "code",
      "source": [
        "# ヤコビ法で解を反復計算\n",
        "x_jacobi, res1 = jacobi(A, b, 1e-6)\n",
        "print('Jacobi method x=', x_jacobi, 'Validated b=', A @ x_jacobi)"
      ],
      "metadata": {
        "colab": {
          "base_uri": "https://localhost:8080/"
        },
        "id": "i7M3OjA4pfJ-",
        "outputId": "ed229a5a-9b92-4062-d0dc-c1db449bfcdb"
      },
      "execution_count": 81,
      "outputs": [
        {
          "output_type": "stream",
          "name": "stdout",
          "text": [
            "----------Start iteration----------\n",
            "Iteration= 0\n",
            "Residual= 1.0\n",
            "x= [ 1.          1.33333333 -0.33333333]\n",
            "Iteration= 100\n",
            "Residual= 8.38132348855169e-06\n",
            "x= [ 1.00000426  1.00000438 -0.99999678]\n",
            "----------End iteration----------\n",
            "Iteration= 120\n",
            "Residual= 9.792092347849907e-07\n",
            "x= [ 0.9999995   0.99999949 -1.00000038] \n",
            "\n",
            "Jacobi method x= [ 0.9999995   0.99999949 -1.00000038] Validated b= [ 1.99999812  3.99999709 -1.00000214]\n"
          ]
        }
      ]
    },
    {
      "cell_type": "code",
      "source": [
        "def gauss_seidel(A, b, tolerance):\n",
        "    ''' 連立方程式をガウス・ザイデル法（反復法）で解く '''\n",
        "\n",
        "    # 初期化（適当な解と残差）\n",
        "    x = np.random.random(len(b))\n",
        "    residual = 1e20\n",
        " \n",
        "    # 係数行列を分解:D=対角成分ベクトル、R=剰余行列\n",
        "    D = np.diag(A)\n",
        "    R = A - np.diag(D)\n",
        " \n",
        "    # 反復計算（逐次求めた解を次のループで使うため、forを使っている）\n",
        "    iteration = 0\n",
        "    print('----------Start iteration----------')\n",
        "    res = []\n",
        "    while residual > tolerance:\n",
        "        # 収束判定用の1ステップ前の解を保持\n",
        "        x0 = x.copy()\n",
        " \n",
        "        # 逐次計算\n",
        "        for i in range(len(x)):\n",
        "            x[i] = (b[i] - R[i] @ x) / D[i]\n",
        " \n",
        "        # 収束判定\n",
        "        residual = np.sum(np.sqrt((x - x0) ** 2)) / np.sum(np.sqrt(x ** 2))\n",
        "        res.append(residual)\n",
        " \n",
        "        if iteration % 100 == 0:\n",
        "            print('Iteration=', iteration)\n",
        "            print('Residual=', residual)\n",
        "            print('x=', x)\n",
        "        iteration += 1\n",
        " \n",
        "    print('----------End iteration----------')\n",
        "    print('Iteration=', iteration)\n",
        "    print('Residual=', residual)\n",
        "    print('x=', x, '\\n')\n",
        " \n",
        "    return x, res"
      ],
      "metadata": {
        "id": "LDhTIlKL-J_a"
      },
      "execution_count": 82,
      "outputs": []
    },
    {
      "cell_type": "code",
      "source": [
        "# ガウス・ザイデル法で解を反復計算\n",
        "x_gs, res2 = gauss_seidel(A, b, 1e-6)\n",
        "print('Gauss-Seidel method x=', x_gs, 'Validated b=', A @ x_gs)"
      ],
      "metadata": {
        "colab": {
          "base_uri": "https://localhost:8080/"
        },
        "id": "s9M685ygB-7C",
        "outputId": "2f5579be-2925-4083-fda0-907ff5f8e33d"
      },
      "execution_count": 83,
      "outputs": [
        {
          "output_type": "stream",
          "name": "stdout",
          "text": [
            "----------Start iteration----------\n",
            "Iteration= 0\n",
            "Residual= 1.3469686454110164\n",
            "x= [ 0.14901034  0.91569441 -0.68823492]\n",
            "----------End iteration----------\n",
            "Iteration= 13\n",
            "Residual= 3.514831770208292e-07\n",
            "x= [ 1.00000032  0.99999984 -1.00000005] \n",
            "\n",
            "Gauss-Seidel method x= [ 1.00000032  0.99999984 -1.00000005] Validated b= [ 2.00000042  4.0000001  -1.        ]\n"
          ]
        }
      ]
    },
    {
      "cell_type": "code",
      "source": [
        "def plot(r_jacobi, r_gauss_seidel):\n",
        "    ''' Residualの変化をプロットする '''\n",
        "    # フォントの種類とサイズを設定する。\n",
        "    plt.rcParams['font.size'] = 14\n",
        "    plt.rcParams['font.family'] = 'DejaVu Serif'\n",
        " \n",
        "    # 目盛を内側にする。\n",
        "    plt.rcParams['xtick.direction'] = 'in'\n",
        "    plt.rcParams['ytick.direction'] = 'in'\n",
        " \n",
        "    # グラフの上下左右に目盛線を付ける。\n",
        "    fig = plt.figure()\n",
        " \n",
        "    ax1 = fig.add_subplot(111)\n",
        "    ax1.yaxis.set_ticks_position('both')\n",
        "    ax1.xaxis.set_ticks_position('both')\n",
        " \n",
        "    # 軸のラベルを設定する。\n",
        "    ax1.set_xlabel('Step')\n",
        "    ax1.set_ylabel('Residual')\n",
        " \n",
        "    # スケールの設定をする。\n",
        "    ax1.set_xlim(0, 120)\n",
        "    #ax1.set_ylim(-0.2, 1.2)\n",
        "    ax1.set_yscale('log')\n",
        " \n",
        "    # プロットを行う。\n",
        "    x1 = np.arange(0, len(r_jacobi), 1)\n",
        "    x2 = np.arange(0, len(r_gauss_seidel), 1)\n",
        "    ax1.plot(x1, r_jacobi, label='Jacobi', lw=1, color='red')\n",
        "    ax1.plot(x2, r_gauss_seidel, label='Gauss-Seidel', lw=1, color='blue')\n",
        "    ax1.legend()\n",
        " \n",
        "    # レイアウト設定\n",
        "    fig.tight_layout()\n",
        " \n",
        "    # グラフを表示する。\n",
        "    plt.show()\n",
        "    plt.close()\n",
        "    return\n"
      ],
      "metadata": {
        "id": "yj37meh_Kiov"
      },
      "execution_count": 86,
      "outputs": []
    },
    {
      "cell_type": "code",
      "source": [
        "plot(res1, res2)"
      ],
      "metadata": {
        "colab": {
          "base_uri": "https://localhost:8080/",
          "height": 496
        },
        "id": "bBxINOwjKjVr",
        "outputId": "168a3d51-856c-4b8c-f5c3-19118dd534ec"
      },
      "execution_count": 87,
      "outputs": [
        {
          "output_type": "display_data",
          "data": {
            "text/plain": [
              "<Figure size 640x480 with 1 Axes>"
            ],
            "image/png": "[encoded data removed]"
          },
          "metadata": {}
        }
      ]
    }
  ]
}